{
  "metadata": {
    "kernelspec": {
      "name": "python",
      "display_name": "Python (Pyodide)",
      "language": "python"
    },
    "language_info": {
      "codemirror_mode": {
        "name": "python",
        "version": 3
      },
      "file_extension": ".py",
      "mimetype": "text/x-python",
      "name": "python",
      "nbconvert_exporter": "python",
      "pygments_lexer": "ipython3",
      "version": "3.8"
    }
  },
  "nbformat_minor": 4,
  "nbformat": 4,
  "cells": [
    {
      "cell_type": "markdown",
      "source": "# Python 入門\n\n資料來源：https://github.com/chengchingwen/Python-Introduction",
      "metadata": {}
    },
    {
      "cell_type": "markdown",
      "source": "## 基本運算",
      "metadata": {}
    },
    {
      "cell_type": "code",
      "source": "1+2       # 加法",
      "metadata": {},
      "execution_count": 1,
      "outputs": [
        {
          "execution_count": 1,
          "output_type": "execute_result",
          "data": {
            "text/plain": [
              "3"
            ]
          },
          "metadata": {}
        }
      ]
    },
    {
      "cell_type": "code",
      "source": "3-4       # 減法",
      "metadata": {},
      "execution_count": 2,
      "outputs": [
        {
          "execution_count": 2,
          "output_type": "execute_result",
          "data": {
            "text/plain": [
              "-1"
            ]
          },
          "metadata": {}
        }
      ]
    },
    {
      "cell_type": "code",
      "source": "5*6       # 乘法",
      "metadata": {},
      "execution_count": 3,
      "outputs": [
        {
          "execution_count": 3,
          "output_type": "execute_result",
          "data": {
            "text/plain": [
              "30"
            ]
          },
          "metadata": {}
        }
      ]
    },
    {
      "cell_type": "code",
      "source": "7/8       # 除法",
      "metadata": {},
      "execution_count": 4,
      "outputs": [
        {
          "execution_count": 4,
          "output_type": "execute_result",
          "data": {
            "text/plain": [
              "0.875"
            ]
          },
          "metadata": {}
        }
      ]
    },
    {
      "cell_type": "code",
      "source": "7//8      # 除法，無條件捨去到個位數",
      "metadata": {},
      "execution_count": 5,
      "outputs": [
        {
          "execution_count": 5,
          "output_type": "execute_result",
          "data": {
            "text/plain": [
              "0"
            ]
          },
          "metadata": {}
        }
      ]
    },
    {
      "cell_type": "code",
      "source": "10%9      # 取餘數",
      "metadata": {},
      "execution_count": 6,
      "outputs": [
        {
          "execution_count": 6,
          "output_type": "execute_result",
          "data": {
            "text/plain": [
              "1"
            ]
          },
          "metadata": {}
        }
      ]
    },
    {
      "cell_type": "code",
      "source": "2 ** 10   # 指數",
      "metadata": {},
      "execution_count": 7,
      "outputs": [
        {
          "execution_count": 7,
          "output_type": "execute_result",
          "data": {
            "text/plain": [
              "1024"
            ]
          },
          "metadata": {}
        }
      ]
    },
    {
      "cell_type": "code",
      "source": "2 ** (1/2)   # 開根號",
      "metadata": {},
      "execution_count": 8,
      "outputs": [
        {
          "execution_count": 8,
          "output_type": "execute_result",
          "data": {
            "text/plain": [
              "1.4142135623730951"
            ]
          },
          "metadata": {}
        }
      ]
    },
    {
      "cell_type": "code",
      "source": "1+2j         # 複數 (這裡虛部用 j 表示)",
      "metadata": {},
      "execution_count": 9,
      "outputs": [
        {
          "execution_count": 9,
          "output_type": "execute_result",
          "data": {
            "text/plain": [
              "(1+2j)"
            ]
          },
          "metadata": {}
        }
      ]
    },
    {
      "cell_type": "code",
      "source": "(1+2j) * (3+4j)    # 複數乘法",
      "metadata": {},
      "execution_count": 10,
      "outputs": [
        {
          "execution_count": 10,
          "output_type": "execute_result",
          "data": {
            "text/plain": [
              "(-5+10j)"
            ]
          },
          "metadata": {}
        }
      ]
    },
    {
      "cell_type": "code",
      "source": "abs(-1)      # absolute, 絕對值",
      "metadata": {},
      "execution_count": 11,
      "outputs": [
        {
          "execution_count": 11,
          "output_type": "execute_result",
          "data": {
            "text/plain": [
              "1"
            ]
          },
          "metadata": {}
        }
      ]
    },
    {
      "cell_type": "code",
      "source": "abs(1+2j)    # absolute, 絕對值",
      "metadata": {},
      "execution_count": 12,
      "outputs": [
        {
          "execution_count": 12,
          "output_type": "execute_result",
          "data": {
            "text/plain": [
              "2.23606797749979"
            ]
          },
          "metadata": {}
        }
      ]
    },
    {
      "cell_type": "code",
      "source": "import numpy as np\nnp.sqrt(5)",
      "metadata": {},
      "execution_count": 13,
      "outputs": [
        {
          "execution_count": 13,
          "output_type": "execute_result",
          "data": {
            "text/plain": [
              "2.23606797749979"
            ]
          },
          "metadata": {}
        }
      ]
    },
    {
      "cell_type": "code",
      "source": "round(3.1415926, 3)     # 四捨五入到小數點後第 3 位",
      "metadata": {},
      "execution_count": 14,
      "outputs": [
        {
          "execution_count": 14,
          "output_type": "execute_result",
          "data": {
            "text/plain": [
              "3.142"
            ]
          },
          "metadata": {}
        }
      ]
    },
    {
      "cell_type": "code",
      "source": "round(3.1415926, 4)     # 四捨五入到小數點後第 4 位",
      "metadata": {},
      "execution_count": 15,
      "outputs": [
        {
          "execution_count": 15,
          "output_type": "execute_result",
          "data": {
            "text/plain": [
              "3.1416"
            ]
          },
          "metadata": {}
        }
      ]
    },
    {
      "cell_type": "markdown",
      "source": "## <font color=\"Red\"> 1.1 熟能生巧 </font>\n<font color=\"Red\"> 練習以下狀況    \n<font color=\"Red\"> 1. 7.23 的 20 次方    \n<font color=\"Red\"> 2. 虛數 i 的平方    \n<font color=\"Red\"> 3. 42 的四次方根   \n<font color=\"Red\"> 補充 : 運算有先後順序，可以用括弧來確保自己想要的順序 ",
      "metadata": {}
    },
    {
      "cell_type": "code",
      "source": "#------------------- Code Here ------------------------#\nimport cmath\nresult1 = 7.23 ** 20\nprint(\"7.23 的 20 次方:\", result1)\ni = complex(0, 1)\nresult2 = i ** 2\nprint(\"虛數 i 的平方:\", result2)\nresult3 = 42 ** (1/4)\nprint(\"42 的四次方根:\", result3)\n\n#------------------- Stop Here ------------------------#",
      "metadata": {
        "trusted": true
      },
      "execution_count": 2,
      "outputs": [
        {
          "name": "stdout",
          "text": "7.23 的 20 次方: 1.523231618090811e+17\n虛數 i 的平方: (-1+0j)\n42 的四次方根: 2.5457298950218306\n",
          "output_type": "stream"
        }
      ]
    },
    {
      "cell_type": "markdown",
      "source": "## <font color=\"Red\"> 1.2 數字的顯示方式  % vs. format  \nhttps://kknews.cc/zh-tw/code/qlpq5nb.html    \n<font color=\"Red\">練習分別使用%與format進行\"7.23 的 3.25 次方\" 之不同顯示方式(顯示小數點以下第5位)   ",
      "metadata": {}
    },
    {
      "cell_type": "code",
      "source": "print(\"7.23 的 3.25 次方是：\", 7.23**3.25)\n#------------------- Code Here ------------------------#\nresult = 7.23 ** 3.25\nformatted_result = \"%.5f\" % result\nprint(\"7.23 的 3.25 次方是：%s\" % formatted_result)\n\nresult = 7.23 ** 3.25\nformatted_result = \"{:.5f}\".format(result)\nprint(\"7.23 的 3.25 次方是：{}\".format(formatted_result))\n#------------------- Stop Here ------------------------#",
      "metadata": {
        "trusted": true
      },
      "execution_count": 3,
      "outputs": [
        {
          "name": "stdout",
          "text": "7.23 的 3.25 次方是： 619.7256422209355\n7.23 的 3.25 次方是：619.72564\n7.23 的 3.25 次方是：619.72564\n",
          "output_type": "stream"
        }
      ]
    },
    {
      "cell_type": "markdown",
      "source": "## 賦值 (Assign)\n\n用 `=` 來給變數內容值",
      "metadata": {}
    },
    {
      "cell_type": "code",
      "source": "a = 1\nb = 1.5\nc = \"asd\"",
      "metadata": {},
      "execution_count": 18,
      "outputs": []
    },
    {
      "cell_type": "markdown",
      "source": "## 型別 (Type)\n\n在程式語言中，型別概念上來說就像是物品的種類，例如：「這群是筆，那群是橡皮擦」。\n\n\n## Python 的內建型別 (Built-in Types)\n\n* int (整數)\n* float (浮點數)\n* complex (複數)\n* str (字串)\n* tuple\n* list\n* dict\n* set\n* ...",
      "metadata": {}
    },
    {
      "cell_type": "code",
      "source": "type(42)    # 用 type 可以得知型別",
      "metadata": {
        "scrolled": true
      },
      "execution_count": 19,
      "outputs": [
        {
          "execution_count": 19,
          "output_type": "execute_result",
          "data": {
            "text/plain": [
              "int"
            ]
          },
          "metadata": {}
        }
      ]
    },
    {
      "cell_type": "code",
      "source": "type(3.14159265358979323846)",
      "metadata": {},
      "execution_count": 20,
      "outputs": [
        {
          "execution_count": 20,
          "output_type": "execute_result",
          "data": {
            "text/plain": [
              "float"
            ]
          },
          "metadata": {}
        }
      ]
    },
    {
      "cell_type": "code",
      "source": "a = 7.23**3.25\nb = 3\nprint(a,b)\nprint(type(a))\nprint(type(b))",
      "metadata": {},
      "execution_count": 21,
      "outputs": [
        {
          "name": "stdout",
          "output_type": "stream",
          "text": "619.7256422209355 3\n\n<class 'float'>\n\n<class 'int'>\n"
        }
      ]
    },
    {
      "cell_type": "code",
      "source": "\"測試\"      # str, 字串",
      "metadata": {},
      "execution_count": 22,
      "outputs": [
        {
          "execution_count": 22,
          "output_type": "execute_result",
          "data": {
            "text/plain": [
              "'測試'"
            ]
          },
          "metadata": {}
        }
      ]
    },
    {
      "cell_type": "code",
      "source": "\"\"\"\n我\n是\n多\n行\n字\n串\n\"\"\"       # 用 3 個 \" 夾起來",
      "metadata": {},
      "execution_count": 23,
      "outputs": [
        {
          "execution_count": 23,
          "output_type": "execute_result",
          "data": {
            "text/plain": [
              "'\\n我\\n是\\n多\\n行\\n字\\n串\\n'"
            ]
          },
          "metadata": {}
        }
      ]
    },
    {
      "cell_type": "code",
      "source": "'''\n我\n是\n多\n行\n字\n串\n'''       # 也可以用 3 個 ' 夾起來",
      "metadata": {},
      "execution_count": 24,
      "outputs": [
        {
          "execution_count": 24,
          "output_type": "execute_result",
          "data": {
            "text/plain": [
              "'\\n我\\n是\\n多\\n行\\n字\\n串\\n'"
            ]
          },
          "metadata": {}
        }
      ]
    },
    {
      "cell_type": "code",
      "source": "(42, 'O w O')    # tuple, 可以放入各種東西的大箱子，放完後不能更動",
      "metadata": {},
      "execution_count": 25,
      "outputs": [
        {
          "execution_count": 25,
          "output_type": "execute_result",
          "data": {
            "text/plain": [
              "(42, 'O w O')"
            ]
          },
          "metadata": {}
        }
      ]
    },
    {
      "cell_type": "code",
      "source": "foo = (42, 'O w O')\nfoo[0]          # subscript operator 可以取出其中的值\n                 # 注意，index 從 0 開始算",
      "metadata": {},
      "execution_count": 26,
      "outputs": [
        {
          "execution_count": 26,
          "output_type": "execute_result",
          "data": {
            "text/plain": [
              "42"
            ]
          },
          "metadata": {}
        }
      ]
    },
    {
      "cell_type": "code",
      "source": "tu = [42, 'O w O']    # list 和 tuple 相似，但放完後可以更動",
      "metadata": {},
      "execution_count": 27,
      "outputs": []
    },
    {
      "cell_type": "code",
      "source": "tu[0] = 11",
      "metadata": {},
      "execution_count": 28,
      "outputs": []
    },
    {
      "cell_type": "code",
      "source": "{'a': 1, 'b': 42}    # dict，冒號左邊的是 key、右邊的是 value，用 key 可以查到 value (想像查字典的狀況)",
      "metadata": {},
      "execution_count": 29,
      "outputs": [
        {
          "execution_count": 29,
          "output_type": "execute_result",
          "data": {
            "text/plain": [
              "{'a': 1, 'b': 42}"
            ]
          },
          "metadata": {}
        }
      ]
    },
    {
      "cell_type": "code",
      "source": "d = {'a': 1, 'b': 42}\nd['b']",
      "metadata": {},
      "execution_count": 30,
      "outputs": [
        {
          "execution_count": 30,
          "output_type": "execute_result",
          "data": {
            "text/plain": [
              "42"
            ]
          },
          "metadata": {}
        }
      ]
    },
    {
      "cell_type": "code",
      "source": "{1, 2, 3, 3, 3}  # set，數學上的集合，裡面的東西不會重複，也沒有順序",
      "metadata": {},
      "execution_count": 31,
      "outputs": [
        {
          "execution_count": 31,
          "output_type": "execute_result",
          "data": {
            "text/plain": [
              "{1, 2, 3}"
            ]
          },
          "metadata": {}
        }
      ]
    },
    {
      "cell_type": "code",
      "source": "A = {1, 2, 3}\nB = {1, 2, 4}\nA | B            # 取聯集",
      "metadata": {},
      "execution_count": 32,
      "outputs": [
        {
          "execution_count": 32,
          "output_type": "execute_result",
          "data": {
            "text/plain": [
              "{1, 2, 3, 4}"
            ]
          },
          "metadata": {}
        }
      ]
    },
    {
      "cell_type": "code",
      "source": "A & B            # 取交集",
      "metadata": {},
      "execution_count": 33,
      "outputs": [
        {
          "execution_count": 33,
          "output_type": "execute_result",
          "data": {
            "text/plain": [
              "{1, 2}"
            ]
          },
          "metadata": {}
        }
      ]
    },
    {
      "cell_type": "code",
      "source": "A ^ B            # 取對稱差",
      "metadata": {},
      "execution_count": 34,
      "outputs": [
        {
          "execution_count": 34,
          "output_type": "execute_result",
          "data": {
            "text/plain": [
              "{3, 4}"
            ]
          },
          "metadata": {}
        }
      ]
    },
    {
      "cell_type": "code",
      "source": "A - B            # 取差集",
      "metadata": {},
      "execution_count": 35,
      "outputs": [
        {
          "execution_count": 35,
          "output_type": "execute_result",
          "data": {
            "text/plain": [
              "{3}"
            ]
          },
          "metadata": {}
        }
      ]
    },
    {
      "cell_type": "markdown",
      "source": "## 真偽值\n\n* True/False\n* `>` `>=` `<` `<=` `==` `!=` `in`\n* and/or/not\n* is\n* 各種 empty 狀況\n    - 0, 1\n    - \"\", \"abc\"\n    - (,), (1, 2)\n    - [], [1, 2]\n    - set(), {1, 2}",
      "metadata": {}
    },
    {
      "cell_type": "code",
      "source": "True",
      "metadata": {},
      "execution_count": 36,
      "outputs": [
        {
          "execution_count": 36,
          "output_type": "execute_result",
          "data": {
            "text/plain": [
              "True"
            ]
          },
          "metadata": {}
        }
      ]
    },
    {
      "cell_type": "code",
      "source": "False",
      "metadata": {},
      "execution_count": 37,
      "outputs": [
        {
          "execution_count": 37,
          "output_type": "execute_result",
          "data": {
            "text/plain": [
              "False"
            ]
          },
          "metadata": {}
        }
      ]
    },
    {
      "cell_type": "code",
      "source": "3 > 2",
      "metadata": {},
      "execution_count": 38,
      "outputs": [
        {
          "execution_count": 38,
          "output_type": "execute_result",
          "data": {
            "text/plain": [
              "True"
            ]
          },
          "metadata": {}
        }
      ]
    },
    {
      "cell_type": "code",
      "source": "5 <= 1",
      "metadata": {},
      "execution_count": 39,
      "outputs": [
        {
          "execution_count": 39,
          "output_type": "execute_result",
          "data": {
            "text/plain": [
              "False"
            ]
          },
          "metadata": {}
        }
      ]
    },
    {
      "cell_type": "code",
      "source": "1 != 2",
      "metadata": {},
      "execution_count": 40,
      "outputs": [
        {
          "execution_count": 40,
          "output_type": "execute_result",
          "data": {
            "text/plain": [
              "True"
            ]
          },
          "metadata": {}
        }
      ]
    },
    {
      "cell_type": "code",
      "source": "5 in [1, 2, 3, 4, 5]",
      "metadata": {},
      "execution_count": 41,
      "outputs": [
        {
          "execution_count": 41,
          "output_type": "execute_result",
          "data": {
            "text/plain": [
              "True"
            ]
          },
          "metadata": {}
        }
      ]
    },
    {
      "cell_type": "code",
      "source": "bool(0)    # 用 bool 來看各個資料是 True 還是 False",
      "metadata": {},
      "execution_count": 42,
      "outputs": [
        {
          "execution_count": 42,
          "output_type": "execute_result",
          "data": {
            "text/plain": [
              "False"
            ]
          },
          "metadata": {}
        }
      ]
    },
    {
      "cell_type": "code",
      "source": "bool(42)",
      "metadata": {},
      "execution_count": 43,
      "outputs": [
        {
          "execution_count": 43,
          "output_type": "execute_result",
          "data": {
            "text/plain": [
              "True"
            ]
          },
          "metadata": {}
        }
      ]
    },
    {
      "cell_type": "code",
      "source": "bool(\"\"), bool(\"abc\")",
      "metadata": {},
      "execution_count": 44,
      "outputs": [
        {
          "execution_count": 44,
          "output_type": "execute_result",
          "data": {
            "text/plain": [
              "(False, True)"
            ]
          },
          "metadata": {}
        }
      ]
    },
    {
      "cell_type": "code",
      "source": "bool(tuple()), bool((1, 2))",
      "metadata": {},
      "execution_count": 45,
      "outputs": [
        {
          "execution_count": 45,
          "output_type": "execute_result",
          "data": {
            "text/plain": [
              "(False, True)"
            ]
          },
          "metadata": {}
        }
      ]
    },
    {
      "cell_type": "code",
      "source": "bool([]), bool([1, 2])",
      "metadata": {},
      "execution_count": 46,
      "outputs": [
        {
          "execution_count": 46,
          "output_type": "execute_result",
          "data": {
            "text/plain": [
              "(False, True)"
            ]
          },
          "metadata": {}
        }
      ]
    },
    {
      "cell_type": "code",
      "source": "bool(set()), bool({1, 2})",
      "metadata": {},
      "execution_count": 47,
      "outputs": [
        {
          "execution_count": 47,
          "output_type": "execute_result",
          "data": {
            "text/plain": [
              "(False, True)"
            ]
          },
          "metadata": {}
        }
      ]
    },
    {
      "cell_type": "code",
      "source": "bool(dict()), bool({'a': 1, 'b': 42})",
      "metadata": {},
      "execution_count": 48,
      "outputs": [
        {
          "execution_count": 48,
          "output_type": "execute_result",
          "data": {
            "text/plain": [
              "(False, True)"
            ]
          },
          "metadata": {}
        }
      ]
    },
    {
      "cell_type": "markdown",
      "source": "## 流程控制\n\n* if ... elif ... else\n* for ... in ...\n* break\n* continue\n* while ... else ...",
      "metadata": {}
    },
    {
      "cell_type": "code",
      "source": "if 3 > 2:\n    print('Yes')\nelse:\n    print('No')    # 如果 3 > 2 的話印出 'Yes'，否則印出 'Nooooooo, why can you come here?'\n                                                 # 注意縮排是有影響的",
      "metadata": {},
      "execution_count": 49,
      "outputs": [
        {
          "name": "stdout",
          "output_type": "stream",
          "text": "Yes\n"
        }
      ]
    },
    {
      "cell_type": "code",
      "source": "if 2 > 3:\n    print('No')\nelif 5 > 4:\n    print('Yes')\nelse:\n    print('@_@?')    # 如果 2 > 3 的話印出 'No'，要不然 5 > 4 的話就印出 'Yes'，否則印出 '@_@?'",
      "metadata": {},
      "execution_count": 50,
      "outputs": [
        {
          "name": "stdout",
          "output_type": "stream",
          "text": "Yes\n"
        }
      ]
    },
    {
      "cell_type": "markdown",
      "source": "## 利用 input 作為使用者輸入介面，使用 int() 將輸入值改為整數",
      "metadata": {}
    },
    {
      "cell_type": "code",
      "source": "temperature = int(input(\"請輸入今天的溫度：\"))\nif temperature >= 28:\n    print(\"該開冷氣了！\")\nelse:\n    print(\"吹電風扇就好。\")",
      "metadata": {},
      "execution_count": 51,
      "outputs": [
        {
          "name": "stdout",
          "output_type": "stream",
          "text": "請輸入今天的溫度：29\n\n該開冷氣了！\n"
        }
      ]
    },
    {
      "cell_type": "markdown",
      "source": "## 利用 str 將數值改為字串以輸出顯示",
      "metadata": {}
    },
    {
      "cell_type": "code",
      "source": "temperature = int(input(\"請輸入今天的溫度：\"))\nif temperature >= 28:\n    print(\"今天溫度\"+str(temperature)+\"度，該開冷氣了！\")\nelse:\n    print(\"今天溫度\"+str(temperature)+\"度，吹電風扇就好。\")",
      "metadata": {},
      "execution_count": 52,
      "outputs": [
        {
          "name": "stdout",
          "output_type": "stream",
          "text": "請輸入今天的溫度：26\n\n今天溫度26度，吹電風扇就好。\n"
        }
      ]
    },
    {
      "cell_type": "markdown",
      "source": "## <font color=\"Red\"> 1.3 請增加溫度的判斷，熟能生巧 </font>\n\n<font color=\"Red\"> 溫度範圍與顯示字串如下：   \n<font color=\"Red\"> 1. 今天溫度 >= 28 度，顯示\"今天溫度??度，該開冷氣了！\"    \n<font color=\"Red\"> 2. 今天溫度介於 20 到 27 度，顯示\"今天溫度??度，吹電風扇就好。\"      \n<font color=\"Red\"> 3. 今天溫度介於 10 到 19 度，顯示\"今天溫度??度，開窗就可以了。\"      \n<font color=\"Red\"> 4. 今天溫度 9 度以下，顯示\"今天溫度??度，太冷了，關好窗戶。\"    ",
      "metadata": {}
    },
    {
      "cell_type": "code",
      "source": "temperature = int(input(\"請輸入今天的溫度：\"))\n#------------------- Code Here ------------------------#\nif temperature >= 28:\n    print(f\"今天溫度{temperature}度，該開冷氣了！\")\nelif 20 <= temperature <= 27:\n    print(f\"今天溫度{temperature}度，吹電風扇就好。\")\nelif 10 <= temperature <= 19:\n    print(f\"今天溫度{temperature}度，開窗就可以了。\")\nelse:\n    print(f\"今天溫度{temperature}度，太冷了，關好窗戶。\")\n#------------------- Stop Here ------------------------#    ",
      "metadata": {
        "trusted": true
      },
      "execution_count": 7,
      "outputs": [
        {
          "ename": "<class 'TypeError'>",
          "evalue": "int() argument must be a string, a bytes-like object or a real number, not 'PyodideFuture'",
          "traceback": [
            "\u001b[0;31m---------------------------------------------------------------------------\u001b[0m",
            "\u001b[0;31mTypeError\u001b[0m                                 Traceback (most recent call last)",
            "Cell \u001b[0;32mIn[7], line 1\u001b[0m\n\u001b[0;32m----> 1\u001b[0m temperature \u001b[38;5;241m=\u001b[39m \u001b[38;5;28;43mint\u001b[39;49m\u001b[43m(\u001b[49m\u001b[38;5;28;43minput\u001b[39;49m\u001b[43m(\u001b[49m\u001b[38;5;124;43m\"\u001b[39;49m\u001b[38;5;124;43m請輸入今天的溫度：\u001b[39;49m\u001b[38;5;124;43m\"\u001b[39;49m\u001b[43m)\u001b[49m\u001b[43m)\u001b[49m\n\u001b[1;32m      2\u001b[0m \u001b[38;5;66;03m#------------------- Code Here ------------------------#\u001b[39;00m\n\u001b[1;32m      3\u001b[0m \u001b[38;5;28;01mif\u001b[39;00m temperature \u001b[38;5;241m>\u001b[39m\u001b[38;5;241m=\u001b[39m \u001b[38;5;241m28\u001b[39m:\n",
            "\u001b[0;31mTypeError\u001b[0m: int() argument must be a string, a bytes-like object or a real number, not 'PyodideFuture'"
          ],
          "output_type": "error"
        }
      ]
    },
    {
      "cell_type": "markdown",
      "source": "## 常見的數字計算",
      "metadata": {}
    },
    {
      "cell_type": "code",
      "source": "a = 5.5\nb = 3.2\nc = a+b\nd = a-b\ne = a*b\nf = a/b\nprint(\"a = %.2f, b = %.2f, c = a+b = %.2f\"%(a,b,c))\nprint(\"a = %.2f, b = %.2f, d = a-b = %.2f\"%(a,b,d))\nprint(\"a = %.2f, b = %.2f, e = a*b = %.2f\"%(a,b,e))\nprint(\"a = %.2f, b = %.2f, f = a/b = %.2f\"%(a,b,f))",
      "metadata": {},
      "execution_count": 54,
      "outputs": [
        {
          "name": "stdout",
          "output_type": "stream",
          "text": "a = 5.50, b = 3.20, c = a+b = 8.70\n\na = 5.50, b = 3.20, d = a-b = 2.30\n\na = 5.50, b = 3.20, e = a*b = 17.60\n\na = 5.50, b = 3.20, f = a/b = 1.72\n"
        }
      ]
    },
    {
      "cell_type": "markdown",
      "source": "## <font color=\"Red\"> 1.4 BMI 計算\n<font color=\"Red\"> 讓使用者可以自行輸入身高、體重，接著計算 BMI 值，並輸出小數點以下兩位的格式\n<img src=https://health99.hpa.gov.tw/img/exam/bmi_form.png width=\"200\">",
      "metadata": {}
    },
    {
      "cell_type": "code",
      "source": "height = int(input(\"請輸入你的身高(cm)：\"))\nweight = int(input(\"請輸入你的體重(kg)：\"))\n#------------------- Code Here ------------------------#\nbmi = weight / (height ** 2)\nformatted_bmi = \"{:.2f}\".format(bmi)\nprint(\"你的BMI數值為：\" + formatted_bmi)\n#------------------- Stop Here ------------------------#    ",
      "metadata": {},
      "execution_count": 55,
      "outputs": [
        {
          "name": "stdout",
          "output_type": "stream",
          "text": "請輸入你的身高(cm)：170\n\n請輸入你的體重(kg)：70\n\n你的BMI數值為：20.588235\n"
        }
      ]
    },
    {
      "cell_type": "markdown",
      "source": "## for 迴圈",
      "metadata": {}
    },
    {
      "cell_type": "code",
      "source": "for i in [1, 2, 3, 4]:    # i 會依序變成 1, 2, 3, 4 來執行下面 block 的程式，在這邊則是會被印出來\n    print(i)",
      "metadata": {},
      "execution_count": 56,
      "outputs": [
        {
          "name": "stdout",
          "output_type": "stream",
          "text": "1\n\n2\n\n3\n\n4\n"
        }
      ]
    },
    {
      "cell_type": "code",
      "source": "for i in [1, 2, 3, 4]:\n    if i == 3:\n        break    # 使用 break 來提早離開，當 i 變成 3 時就離開這個 for loop\n    print(i)",
      "metadata": {},
      "execution_count": 57,
      "outputs": [
        {
          "name": "stdout",
          "output_type": "stream",
          "text": "1\n\n2\n"
        }
      ]
    },
    {
      "cell_type": "code",
      "source": "for i in [1, 2, 3, 4]:\n    print(i)\nelse:\n    print('End')    # 如果前面的 for 成功跑完的話會執行這段",
      "metadata": {
        "scrolled": true
      },
      "execution_count": 58,
      "outputs": [
        {
          "name": "stdout",
          "output_type": "stream",
          "text": "1\n\n2\n\n3\n\n4\n\nEnd\n"
        }
      ]
    },
    {
      "cell_type": "code",
      "source": "for i in [1, 2, 3, 4]:\n    if i == 3:\n        break\n    print(i)\nelse:\n    print('End')    # 如果前面的 for 成功跑完的話會執行這段",
      "metadata": {},
      "execution_count": 59,
      "outputs": [
        {
          "name": "stdout",
          "output_type": "stream",
          "text": "1\n\n2\n"
        }
      ]
    },
    {
      "cell_type": "code",
      "source": "for i in [1, 2, 3, 4]:\n    if i == 3:\n        continue    # continue 可以跳過這次後面的 code，進入下一輪\n    print(i)\nelse:\n    print('End')    # 如果前面的 for 成功跑完的話會執行這段",
      "metadata": {},
      "execution_count": 60,
      "outputs": [
        {
          "name": "stdout",
          "output_type": "stream",
          "text": "1\n\n2\n\n4\n\nEnd\n"
        }
      ]
    },
    {
      "cell_type": "markdown",
      "source": "## <font color=\"Red\"> 1.5 使用 for 迴圈計算 [1, 2, 3, 4, 6, 7]的數值總和</font>",
      "metadata": {}
    },
    {
      "cell_type": "code",
      "source": "sum = 0\n#------------------- Code Here ------------------------#\nnumbers = [1, 2, 3, 4, 6, 7]\nstr_sum = 0\nfor num in numbers:\n    str_sum += num\n#------------------- Stop Here ------------------------#    \nprint(\"總和為:\" + str(str_sum))",
      "metadata": {
        "trusted": true
      },
      "execution_count": 5,
      "outputs": [
        {
          "name": "stdout",
          "text": "總和為:23\n",
          "output_type": "stream"
        }
      ]
    },
    {
      "cell_type": "markdown",
      "source": "## while 迴圈",
      "metadata": {}
    },
    {
      "cell_type": "code",
      "source": "i = 4\nwhile i > 0:   # 當 while 後面接的條件一直符合時就會繼續執行\n    print(i)\n    i = i - 1",
      "metadata": {},
      "execution_count": 62,
      "outputs": [
        {
          "name": "stdout",
          "output_type": "stream",
          "text": "4\n\n3\n\n2\n\n1\n"
        }
      ]
    },
    {
      "cell_type": "code",
      "source": "i = 4\nwhile i > 0:   \n    print(i)\n    i = i - 1\nelse:\n    print('End')",
      "metadata": {},
      "execution_count": 63,
      "outputs": [
        {
          "name": "stdout",
          "output_type": "stream",
          "text": "4\n\n3\n\n2\n\n1\n\nEnd\n"
        }
      ]
    },
    {
      "cell_type": "code",
      "source": "i = 4\nwhile i > 0:   \n    if i == 3:\n        break\n    print(i)\n    i = i - 1\nelse:\n    print('End')",
      "metadata": {},
      "execution_count": 64,
      "outputs": [
        {
          "name": "stdout",
          "output_type": "stream",
          "text": "4\n"
        }
      ]
    },
    {
      "cell_type": "markdown",
      "source": "## <font color=\"Red\"> 1.6 使用while計算小於等於40的偶數和",
      "metadata": {}
    },
    {
      "cell_type": "code",
      "source": "i = 40\nsum = 0;\n#------------------- Code Here ------------------------#\nnum = 1\nwhile num <= i:\n    if num % 2 == 0:\n        sum += num\n    num += 1\n#------------------- Stop Here ------------------------#    \nprint(\"小於等於40的偶數和:\"+str(sum))  ",
      "metadata": {
        "trusted": true
      },
      "execution_count": 19,
      "outputs": [
        {
          "name": "stdout",
          "text": "小於等於40的偶數和:420\n",
          "output_type": "stream"
        }
      ]
    },
    {
      "cell_type": "markdown",
      "source": "## <font color=\"Red\"> 1.7 使用while計算小於等於200的 3 或 5 的倍數和",
      "metadata": {}
    },
    {
      "cell_type": "code",
      "source": "#Method 1 (使用 if 和 elif)\ni = 200\nsum = 0;\n#------------------- Code Here ------------------------#\nnum = 1\nwhile num <= i:\n    if num % 3 == 0:\n        sum += num\n    elif num % 5 == 0:\n        sum += num\n    num += 1\n#------------------- Stop Here ------------------------#    \nprint(\"小於等於200的 3 或 5 的倍數和:\"+str(sum))   ",
      "metadata": {
        "trusted": true
      },
      "execution_count": 30,
      "outputs": [
        {
          "name": "stdout",
          "text": "小於等於200的 3 或 5 的倍數和:9368\n",
          "output_type": "stream"
        }
      ]
    },
    {
      "cell_type": "code",
      "source": "#Method 2 (僅使用一個 if)\ni = 200\nsum = 0;\n#------------------- Code Here ------------------------#\nnum = 1\nwhile num <= i:\n    if num % 3 == 0 or num % 5 == 0:\n        sum += num\n    num += 1  \n#------------------- Stop Here ------------------------#    \nprint(\"小於等於200的 3 或 5 的倍數和:\"+str(sum))   ",
      "metadata": {
        "trusted": true
      },
      "execution_count": 32,
      "outputs": [
        {
          "name": "stdout",
          "text": "小於等於200的 3 或 5 的倍數和:9368\n",
          "output_type": "stream"
        }
      ]
    },
    {
      "cell_type": "markdown",
      "source": "## 更多字串操作\n\n* string formatting\n* 字串串接\n* slice : `start:stop[:step]`",
      "metadata": {}
    },
    {
      "cell_type": "code",
      "source": "'{} | {}'.format(1, 2)    # 用 {} 表示要留著填空，後面用 .format 傳入要填進去的值",
      "metadata": {},
      "execution_count": 68,
      "outputs": [
        {
          "execution_count": 68,
          "output_type": "execute_result",
          "data": {
            "text/plain": [
              "'1 | 2'"
            ]
          },
          "metadata": {}
        }
      ]
    },
    {
      "cell_type": "code",
      "source": "'~ {} ~'.format([1, 2, 3, 4])",
      "metadata": {},
      "execution_count": 69,
      "outputs": [
        {
          "execution_count": 69,
          "output_type": "execute_result",
          "data": {
            "text/plain": [
              "'~ [1, 2, 3, 4] ~'"
            ]
          },
          "metadata": {}
        }
      ]
    },
    {
      "cell_type": "code",
      "source": "'上上下下' + '左右左右' + 'BA'    # 用 + 可以把字串接起來",
      "metadata": {},
      "execution_count": 70,
      "outputs": [
        {
          "execution_count": 70,
          "output_type": "execute_result",
          "data": {
            "text/plain": [
              "'上上下下左右左右BA'"
            ]
          },
          "metadata": {}
        }
      ]
    },
    {
      "cell_type": "code",
      "source": "s = 'abcdefghijklmnopqrstuvwxyz'",
      "metadata": {},
      "execution_count": 71,
      "outputs": []
    },
    {
      "cell_type": "code",
      "source": "s[0]",
      "metadata": {},
      "execution_count": 72,
      "outputs": [
        {
          "execution_count": 72,
          "output_type": "execute_result",
          "data": {
            "text/plain": [
              "'a'"
            ]
          },
          "metadata": {}
        }
      ]
    },
    {
      "cell_type": "code",
      "source": "s[1:4]    # index 1 到 index 3 (index 4 結束)",
      "metadata": {},
      "execution_count": 73,
      "outputs": [
        {
          "execution_count": 73,
          "output_type": "execute_result",
          "data": {
            "text/plain": [
              "'bcd'"
            ]
          },
          "metadata": {}
        }
      ]
    },
    {
      "cell_type": "code",
      "source": "s[-1]     # 負的 index 會倒回去",
      "metadata": {},
      "execution_count": 74,
      "outputs": [
        {
          "execution_count": 74,
          "output_type": "execute_result",
          "data": {
            "text/plain": [
              "'z'"
            ]
          },
          "metadata": {}
        }
      ]
    },
    {
      "cell_type": "code",
      "source": "s[1:8:2]  # index 1 到 index 7，每次跳兩步",
      "metadata": {},
      "execution_count": 75,
      "outputs": [
        {
          "execution_count": 75,
          "output_type": "execute_result",
          "data": {
            "text/plain": [
              "'bdfh'"
            ]
          },
          "metadata": {}
        }
      ]
    },
    {
      "cell_type": "code",
      "source": "s[-1:-9:-2]",
      "metadata": {},
      "execution_count": 76,
      "outputs": [
        {
          "execution_count": 76,
          "output_type": "execute_result",
          "data": {
            "text/plain": [
              "'zxvt'"
            ]
          },
          "metadata": {}
        }
      ]
    },
    {
      "cell_type": "code",
      "source": "s[::-1]   # 顛倒，不指定的話會自動帶入值",
      "metadata": {},
      "execution_count": 77,
      "outputs": [
        {
          "execution_count": 77,
          "output_type": "execute_result",
          "data": {
            "text/plain": [
              "'zyxwvutsrqponmlkjihgfedcba'"
            ]
          },
          "metadata": {}
        }
      ]
    },
    {
      "cell_type": "markdown",
      "source": "## Function\n\n一些常用的 code 會寫成 function，之後要使用時直接呼叫就可以了",
      "metadata": {}
    },
    {
      "cell_type": "code",
      "source": "def hello():          \n    print('Hello ~')\n\nhello()   ",
      "metadata": {
        "scrolled": true
      },
      "execution_count": 78,
      "outputs": [
        {
          "name": "stdout",
          "output_type": "stream",
          "text": "Hello ~\n"
        }
      ]
    },
    {
      "cell_type": "code",
      "source": "def f_42():\n    return 42    # 用 return 來回傳資料\n\nx = f_42()\nprint(x)",
      "metadata": {},
      "execution_count": 79,
      "outputs": [
        {
          "name": "stdout",
          "output_type": "stream",
          "text": "42\n"
        }
      ]
    },
    {
      "cell_type": "code",
      "source": "def f(a, b=3):   # a 和 b 是參數，b 預設是 3\n    return a+b\n\nx = f(10)\ny = f(10, 5)\nprint(x, y)",
      "metadata": {},
      "execution_count": 80,
      "outputs": [
        {
          "name": "stdout",
          "output_type": "stream",
          "text": "13 15\n"
        }
      ]
    },
    {
      "cell_type": "markdown",
      "source": "## <font color=\"Red\"> 1.8 函數練習</font>\n<font color=\"Red\">撰寫函數 test(a,b)，計算傳入兩個數a和b的平均值</font>",
      "metadata": {}
    },
    {
      "cell_type": "code",
      "source": "#------------------- Code Here ------------------------#\ndef test(a, b):\n    average = (a + b) / 2\n    return average\n#------------------- Stop Here ------------------------#\nr = test(4,7)\nprint(r)",
      "metadata": {
        "trusted": true
      },
      "execution_count": 33,
      "outputs": [
        {
          "name": "stdout",
          "text": "5.5\n",
          "output_type": "stream"
        }
      ]
    },
    {
      "cell_type": "markdown",
      "source": "## <font color=\"Red\"> 1.9 函數練習</font>\n<font color=\"Red\">撰寫函數 test2(a)，計算傳入串列a中所有值的平均 <p>\n例如：a=[1, 2, 3, 4]</font>",
      "metadata": {}
    },
    {
      "cell_type": "code",
      "source": "#------------------- Code Here ------------------------#\ndef test2(a):\n    s1=0\n    for i in a:\n        print(i)\n    return\n#------------------- Stop Here ------------------------#\nr = test2([1, 2, 3, 4])\nprint(r)",
      "metadata": {
        "trusted": true
      },
      "execution_count": 43,
      "outputs": [
        {
          "name": "stdout",
          "text": "1\n2\n3\n4\nNone\n",
          "output_type": "stream"
        }
      ]
    },
    {
      "cell_type": "markdown",
      "source": "# <font color=\"Red\"> 1.10 函數練習</font>\n<font color=\"Red\">撰寫函數 test3(a)，計算傳入串列a中所有值的平均值(Mean)與變異數(Variance)，再利用串列方式回傳 <p>\n例如：a=[1, 2, 3, 4]</font>\n\n<img src=\"https://images.squarespace-cdn.com/content/v1/533db07de4b0d9f7ba7f1e77/1552186395207-9OQVIKUBI0G3TJPEJJ7R/summary+table+of+mean%2C+variance%2C+and+standard+deviation+formulas?format=1500w%22\"  width=\"700\">",
      "metadata": {}
    },
    {
      "cell_type": "code",
      "source": "#------------------- Code Here ------------------------#\ndef test3(a):\n    s1 = 0\n    for i in a:\n        s1 = s1 + i\n    mean = s1/len(a)\n    s2 = 0\n    for i in a:\n        s2 = s2 + (i-mean)**2\n    variance = s2/len(a)\n    return [mean, variance]\n#------------------- Stop Here ------------------------#\nans = test3([1, 2, 3, 4])\nprint(ans)",
      "metadata": {
        "trusted": true
      },
      "execution_count": 52,
      "outputs": [
        {
          "name": "stdout",
          "text": "[2.5, 1.25]\n",
          "output_type": "stream"
        }
      ]
    },
    {
      "cell_type": "markdown",
      "source": "## <font color=\"Red\"> 1.11 設計一個程式，輸入一個整數n，並在函式calSquare中計算1到n之間所有數字的平方和。¶",
      "metadata": {}
    },
    {
      "cell_type": "code",
      "source": "#------------------- Code Here ------------------------#\ndef calSquare(n):\n    square_sum = 0\n    for i in range(1, n + 1):\n        square_sum += i ** 2\n    return square_sum\n#------------------- Code Here ------------------------#    \nnumber = int(input(\"請輸入一個數字\"))\ncal_number = calSquare(number)\nprint(\"1到n之間所有數字平方和為\"+str(cal_number))",
      "metadata": {},
      "execution_count": 84,
      "outputs": [
        {
          "name": "stdout",
          "output_type": "stream",
          "text": "請輸入一個數字15\n\n1到n之間所有數字平方和為1240\n"
        }
      ]
    },
    {
      "cell_type": "markdown",
      "source": "## <font color=\"Red\"> 1.12 設計一個程式，輸入兩個整數a和b，並在函式calSquare5中計算a到b之間5的倍數的平方和。¶",
      "metadata": {}
    },
    {
      "cell_type": "code",
      "source": "#------------------- Code Here ------------------------#\ndef calSquare5(a, b):\n    square_sum = 0\n    for i in range(a, b + 1):\n        if i % 5 == 0:  \n            square_sum += i ** 2\n    return square_sum\n#------------------- Code Here ------------------------#    \na = int(input(\"請輸入第一個數字\"))\nb = int(input(\"請輸入第二個數字\"))\ncal_number = calSquare5(a,b)\nprint(str(a)+\"到\"+str(b)+\"之間所有數字平方和為\"+str(cal_number))",
      "metadata": {
        "trusted": true
      },
      "execution_count": 53,
      "outputs": [
        {
          "ename": "<class 'TypeError'>",
          "evalue": "int() argument must be a string, a bytes-like object or a real number, not 'PyodideFuture'",
          "traceback": [
            "\u001b[0;31m---------------------------------------------------------------------------\u001b[0m",
            "\u001b[0;31mTypeError\u001b[0m                                 Traceback (most recent call last)",
            "Cell \u001b[0;32mIn[53], line 9\u001b[0m\n\u001b[1;32m      7\u001b[0m     \u001b[38;5;28;01mreturn\u001b[39;00m square_sum\n\u001b[1;32m      8\u001b[0m \u001b[38;5;66;03m#------------------- Code Here ------------------------#    \u001b[39;00m\n\u001b[0;32m----> 9\u001b[0m a \u001b[38;5;241m=\u001b[39m \u001b[38;5;28;43mint\u001b[39;49m\u001b[43m(\u001b[49m\u001b[38;5;28;43minput\u001b[39;49m\u001b[43m(\u001b[49m\u001b[38;5;124;43m\"\u001b[39;49m\u001b[38;5;124;43m請輸入第一個數字\u001b[39;49m\u001b[38;5;124;43m\"\u001b[39;49m\u001b[43m)\u001b[49m\u001b[43m)\u001b[49m\n\u001b[1;32m     10\u001b[0m b \u001b[38;5;241m=\u001b[39m \u001b[38;5;28mint\u001b[39m(\u001b[38;5;28minput\u001b[39m(\u001b[38;5;124m\"\u001b[39m\u001b[38;5;124m請輸入第二個數字\u001b[39m\u001b[38;5;124m\"\u001b[39m))\n\u001b[1;32m     11\u001b[0m cal_number \u001b[38;5;241m=\u001b[39m calSquare5(a,b)\n",
            "\u001b[0;31mTypeError\u001b[0m: int() argument must be a string, a bytes-like object or a real number, not 'PyodideFuture'"
          ],
          "output_type": "error"
        },
        {
          "output_type": "stream",
          "name": "stdin",
          "text": "請輸入第一個數字 1,20\n"
        }
      ]
    },
    {
      "cell_type": "markdown",
      "source": "## <font color=\"Red\"> 1.13 寫一個程式，輸入一個整數n，並在函式checkPrime中判斷n是不是質數。",
      "metadata": {}
    },
    {
      "cell_type": "code",
      "source": "#------------------- Code Here ------------------------#\ndef checkPrime(n):\n    if n < 2:\n        return False\n    for i in range(2, int(n**0.5) + 1):\n        if n % i == 0:\n            return False\n    return True\n#------------------- Code Here ------------------------#    \nnumber = int(input(\"請輸入一個數字\"))\nisPrime = checkPrime(number)\nprint(\"數字\"+str(number)+\"是質數嗎？\"+isPrime)\n",
      "metadata": {
        "trusted": true
      },
      "execution_count": 55,
      "outputs": [
        {
          "ename": "<class 'TypeError'>",
          "evalue": "int() argument must be a string, a bytes-like object or a real number, not 'PyodideFuture'",
          "traceback": [
            "\u001b[0;31m---------------------------------------------------------------------------\u001b[0m",
            "\u001b[0;31mTypeError\u001b[0m                                 Traceback (most recent call last)",
            "Cell \u001b[0;32mIn[55], line 10\u001b[0m\n\u001b[1;32m      8\u001b[0m     \u001b[38;5;28;01mreturn\u001b[39;00m \u001b[38;5;28;01mTrue\u001b[39;00m\n\u001b[1;32m      9\u001b[0m \u001b[38;5;66;03m#------------------- Code Here ------------------------#    \u001b[39;00m\n\u001b[0;32m---> 10\u001b[0m number \u001b[38;5;241m=\u001b[39m \u001b[38;5;28;43mint\u001b[39;49m\u001b[43m(\u001b[49m\u001b[38;5;28;43minput\u001b[39;49m\u001b[43m(\u001b[49m\u001b[38;5;124;43m\"\u001b[39;49m\u001b[38;5;124;43m請輸入一個數字\u001b[39;49m\u001b[38;5;124;43m\"\u001b[39;49m\u001b[43m)\u001b[49m\u001b[43m)\u001b[49m\n\u001b[1;32m     11\u001b[0m isPrime \u001b[38;5;241m=\u001b[39m checkPrime(number)\n\u001b[1;32m     12\u001b[0m \u001b[38;5;28mprint\u001b[39m(\u001b[38;5;124m\"\u001b[39m\u001b[38;5;124m數字\u001b[39m\u001b[38;5;124m\"\u001b[39m\u001b[38;5;241m+\u001b[39m\u001b[38;5;28mstr\u001b[39m(number)\u001b[38;5;241m+\u001b[39m\u001b[38;5;124m\"\u001b[39m\u001b[38;5;124m是質數嗎？\u001b[39m\u001b[38;5;124m\"\u001b[39m\u001b[38;5;241m+\u001b[39misPrime)\n",
            "\u001b[0;31mTypeError\u001b[0m: int() argument must be a string, a bytes-like object or a real number, not 'PyodideFuture'"
          ],
          "output_type": "error"
        }
      ]
    },
    {
      "cell_type": "code",
      "source": "",
      "metadata": {},
      "execution_count": null,
      "outputs": []
    }
  ]
}